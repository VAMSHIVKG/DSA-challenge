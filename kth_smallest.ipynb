{
 "cells": [
  {
   "cell_type": "code",
   "execution_count": 12,
   "id": "57678869-d98c-4221-a634-ec7fd88e59cc",
   "metadata": {},
   "outputs": [
    {
     "name": "stdin",
     "output_type": "stream",
     "text": [
      " 22 3 6 4 5\n",
      " 2\n"
     ]
    },
    {
     "ename": "TypeError",
     "evalue": "_heapq.heappop() takes exactly one argument (0 given)",
     "output_type": "error",
     "traceback": [
      "\u001b[1;31m---------------------------------------------------------------------------\u001b[0m",
      "\u001b[1;31mTypeError\u001b[0m                                 Traceback (most recent call last)",
      "Cell \u001b[1;32mIn[12], line 12\u001b[0m\n\u001b[0;32m     10\u001b[0m arr\u001b[38;5;241m=\u001b[39m\u001b[38;5;28mlist\u001b[39m(\u001b[38;5;28mmap\u001b[39m(\u001b[38;5;28mint\u001b[39m,\u001b[38;5;28minput\u001b[39m()\u001b[38;5;241m.\u001b[39msplit()))\n\u001b[0;32m     11\u001b[0m k\u001b[38;5;241m=\u001b[39m\u001b[38;5;28mint\u001b[39m(\u001b[38;5;28minput\u001b[39m())\n\u001b[1;32m---> 12\u001b[0m a\u001b[38;5;241m=\u001b[39mk_small(arr,k)\n\u001b[0;32m     13\u001b[0m \u001b[38;5;28mprint\u001b[39m(a)\n",
      "Cell \u001b[1;32mIn[12], line 6\u001b[0m, in \u001b[0;36mk_small\u001b[1;34m(arr, k)\u001b[0m\n\u001b[0;32m      4\u001b[0m heapq\u001b[38;5;241m.\u001b[39mheapify(arr)\n\u001b[0;32m      5\u001b[0m \u001b[38;5;28;01mwhile\u001b[39;00m k \u001b[38;5;241m>\u001b[39m \u001b[38;5;241m0\u001b[39m:\n\u001b[1;32m----> 6\u001b[0m     s\u001b[38;5;241m=\u001b[39mheapq\u001b[38;5;241m.\u001b[39mheappop()\n\u001b[0;32m      7\u001b[0m     k\u001b[38;5;241m-\u001b[39m\u001b[38;5;241m=\u001b[39m\u001b[38;5;241m1\u001b[39m\n\u001b[0;32m      8\u001b[0m \u001b[38;5;28;01mreturn\u001b[39;00m s\n",
      "\u001b[1;31mTypeError\u001b[0m: _heapq.heappop() takes exactly one argument (0 given)"
     ]
    }
   ],
   "source": [
    "#kth min\n",
    "import heapq\n",
    "def k_small(arr,k):\n",
    "    heapq.heapify(arr)\n",
    "    while k > 0:\n",
    "        s=heapq.heappop()\n",
    "        k-=1\n",
    "    return s\n",
    "#driver code\n",
    "arr=list(map(int,input().split()))\n",
    "k=int(input())\n",
    "a=k_small(arr,k)\n",
    "print(a)"
   ]
  },
  {
   "cell_type": "code",
   "execution_count": null,
   "id": "fca685ba-c94d-4557-a27e-d4c53254314e",
   "metadata": {},
   "outputs": [],
   "source": [
    "#kth largest\n",
    "import heapq\n",
    "def k_large(arr, K):\n",
    "    arr=[-item for item in arr] \n",
    "    heapq.heapify(arr)\n",
    "    while k > 0:\n",
    "        s=heapq.heappop()\n",
    "        k-=1\n",
    "    return abs(s)\n",
    "#driver code\n",
    "arr=list(map(int,input().split()))\n",
    "k=int(input())\n",
    "k_small(arr,k)"
   ]
  },
  {
   "cell_type": "code",
   "execution_count": null,
   "id": "1d706bde-82a1-47ad-bb1e-a9c1e6e9e86a",
   "metadata": {},
   "outputs": [],
   "source": []
  }
 ],
 "metadata": {
  "kernelspec": {
   "display_name": "Python 3 (ipykernel)",
   "language": "python",
   "name": "python3"
  },
  "language_info": {
   "codemirror_mode": {
    "name": "ipython",
    "version": 3
   },
   "file_extension": ".py",
   "mimetype": "text/x-python",
   "name": "python",
   "nbconvert_exporter": "python",
   "pygments_lexer": "ipython3",
   "version": "3.11.7"
  }
 },
 "nbformat": 4,
 "nbformat_minor": 5
}
