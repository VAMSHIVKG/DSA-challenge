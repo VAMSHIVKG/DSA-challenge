{
 "cells": [
  {
   "cell_type": "code",
   "execution_count": 2,
   "id": "52261ae9-fd3f-4ee3-a637-0ae0d324d708",
   "metadata": {},
   "outputs": [
    {
     "name": "stdout",
     "output_type": "stream",
     "text": [
      "Requirement already satisfied: numpy in c:\\users\\gattu\\anaconda3\\lib\\site-packages (1.26.4)\n"
     ]
    },
    {
     "name": "stdin",
     "output_type": "stream",
     "text": [
      " 4\n"
     ]
    },
    {
     "ename": "ValueError",
     "evalue": "operands could not be broadcast together with shapes (2,3) (0,3) ",
     "output_type": "error",
     "traceback": [
      "\u001b[1;31m---------------------------------------------------------------------------\u001b[0m",
      "\u001b[1;31mValueError\u001b[0m                                Traceback (most recent call last)",
      "Cell \u001b[1;32mIn[2], line 8\u001b[0m\n\u001b[0;32m      5\u001b[0m trips\u001b[38;5;241m=\u001b[39mnp\u001b[38;5;241m.\u001b[39marray([[\u001b[38;5;241m2\u001b[39m,\u001b[38;5;241m1\u001b[39m,\u001b[38;5;241m5\u001b[39m],[\u001b[38;5;241m3\u001b[39m,\u001b[38;5;241m3\u001b[39m,\u001b[38;5;241m7\u001b[39m]])\n\u001b[0;32m      6\u001b[0m c\u001b[38;5;241m=\u001b[39m\u001b[38;5;28mint\u001b[39m(\u001b[38;5;28minput\u001b[39m())\n\u001b[1;32m----> 8\u001b[0m \u001b[38;5;28;01mif\u001b[39;00m trips[\u001b[38;5;241m0\u001b[39m:\u001b[38;5;241m2\u001b[39m] \u001b[38;5;241m>\u001b[39m\u001b[38;5;241m=\u001b[39m trips[\u001b[38;5;241m1\u001b[39m:\u001b[38;5;241m1\u001b[39m]:\n\u001b[0;32m      9\u001b[0m     add\u001b[38;5;241m=\u001b[39mtrips[\u001b[38;5;241m0\u001b[39m][\u001b[38;5;241m0\u001b[39m][\u001b[38;5;241m0\u001b[39m]\u001b[38;5;241m+\u001b[39mtrips[\u001b[38;5;241m0\u001b[39m][\u001b[38;5;241m1\u001b[39m][\u001b[38;5;241m0\u001b[39m]\n\u001b[0;32m     10\u001b[0m     \u001b[38;5;28;01mif\u001b[39;00m add \u001b[38;5;241m>\u001b[39m c:\n",
      "\u001b[1;31mValueError\u001b[0m: operands could not be broadcast together with shapes (2,3) (0,3) "
     ]
    }
   ],
   "source": [
    "# carpool\n",
    "!pip install numpy\n",
    "import numpy as np\n",
    "\n",
    "trips=np.array([[2,1,5],[3,3,7]])\n",
    "c=int(input())\n",
    "\n",
    "if trips[0:2] >= trips[1:1]:\n",
    "    add=trips[0][0][0]+trips[0][1][0]\n",
    "    if add > c:\n",
    "        print(\"false\")\n",
    "    else:\n",
    "        print(\"true\")\n",
    "    \n",
    "    "
   ]
  },
  {
   "cell_type": "code",
   "execution_count": 23,
   "id": "a882f626-31d9-4b0b-ae20-919d1161a93e",
   "metadata": {},
   "outputs": [],
   "source": [
    "# !pip install matplotlib\n",
    "# import matplotlib\n",
    "# import qrcode\n",
    "a='A'"
   ]
  },
  {
   "cell_type": "code",
   "execution_count": 24,
   "id": "a2656fe7-9fa5-4caa-b1da-6861a47eda69",
   "metadata": {},
   "outputs": [
    {
     "data": {
      "text/plain": [
       "65"
      ]
     },
     "execution_count": 24,
     "metadata": {},
     "output_type": "execute_result"
    }
   ],
   "source": [
    "ord(a)"
   ]
  },
  {
   "cell_type": "code",
   "execution_count": 18,
   "id": "60f33092",
   "metadata": {},
   "outputs": [
    {
     "data": {
      "text/plain": [
       "Counter({'C': 6, 'A': 5, 'D': 3, 'B': 1})"
      ]
     },
     "execution_count": 18,
     "metadata": {},
     "output_type": "execute_result"
    }
   ],
   "source": [
    "from collections import Counter\n",
    "\n",
    "def calculate_frequencies(data):\n",
    "    # Count frequencies of each character\n",
    "    frequencies = Counter(data)\n",
    "    return frequencies\n",
    "\n",
    "\n",
    "calculate_frequencies('BCAADDDCCACACAC')\n",
    "\n"
   ]
  },
  {
   "cell_type": "code",
   "execution_count": 26,
   "id": "0c1dc944",
   "metadata": {},
   "outputs": [
    {
     "ename": "NameError",
     "evalue": "name 'haffman_encode' is not defined",
     "output_type": "error",
     "traceback": [
      "\u001b[1;31m---------------------------------------------------------------------------\u001b[0m",
      "\u001b[1;31mNameError\u001b[0m                                 Traceback (most recent call last)",
      "Cell \u001b[1;32mIn[26], line 83\u001b[0m\n\u001b[0;32m     64\u001b[0m \u001b[38;5;66;03m# def build_huffman_codes(root):\u001b[39;00m\n\u001b[0;32m     65\u001b[0m \u001b[38;5;66;03m#     codes = {}\u001b[39;00m\n\u001b[0;32m     66\u001b[0m \n\u001b[1;32m   (...)\u001b[0m\n\u001b[0;32m     80\u001b[0m \n\u001b[0;32m     81\u001b[0m \u001b[38;5;66;03m# driver code\u001b[39;00m\n\u001b[0;32m     82\u001b[0m data \u001b[38;5;241m=\u001b[39m \u001b[38;5;124m'\u001b[39m\u001b[38;5;124mthis is an example of haffman encoding\u001b[39m\u001b[38;5;124m'\u001b[39m\n\u001b[1;32m---> 83\u001b[0m enc_txt,enc\u001b[38;5;241m=\u001b[39m haffman_encode(data)\n\u001b[0;32m     84\u001b[0m \u001b[38;5;28mprint\u001b[39m(enc_txt)\n\u001b[0;32m     85\u001b[0m decode_txt\u001b[38;5;241m=\u001b[39m huffman_decode(enc_txt,enc)\n",
      "\u001b[1;31mNameError\u001b[0m: name 'haffman_encode' is not defined"
     ]
    }
   ],
   "source": [
    "import heapq\n",
    "# from collections import Counter\n",
    "class Node:\n",
    "    def __init__(self, char, freq):\n",
    "        self.char = char\n",
    "        self.freq = freq\n",
    "        self.left = None\n",
    "        self.right = None\n",
    "\n",
    "    def __lt__(self, other):\n",
    "        return self.freq < other.freq\n",
    "\n",
    "def build_huffman_tree(data):\n",
    "    frequencies = Counter(data)\n",
    "    # Create a priority queue (min-heap) of nodes\n",
    "    heap = [Node(char, freq) for char, freq in frequencies.items()]\n",
    "    heapq.heapify(heap)  # Convert list to heap\n",
    "\n",
    "    while len(heap) > 1:\n",
    "        # Extract two nodes with the lowest frequencies\n",
    "        left = heapq.heappop(heap)\n",
    "        right = heapq.heappop(heap)\n",
    "\n",
    "        # Create a new internal node with combined frequency\n",
    "        internal_node = Node(None, left.freq + right.freq)\n",
    "        internal_node.left = left\n",
    "        internal_node.right = right\n",
    "\n",
    "        # Push the new internal node back to the heap\n",
    "        heapq.heappush(heap, internal_node)\n",
    "\n",
    "    # The remaining node is the root of the Huffman tree\n",
    "    return heap[0]\n",
    "\n",
    "def build_huffman_codes(root,enc,curr=''):\n",
    "    if root is None:\n",
    "        return\n",
    "    if root.char is not None:\n",
    "        enc[root.char] = curr\n",
    "        return\n",
    "    build_huffman_codes(root.left,enc,curr+0)\n",
    "    build_huffman_codes(root.right,enc,curr+1)\n",
    "    \n",
    "\n",
    "def huffman_encode(data):\n",
    "    root = build_huffman_tree(data)\n",
    "    enc={}\n",
    "    build_huffman_codes(root,enc)\n",
    "    enc_txt=''.join(enc[char] for char in data)\n",
    "    return enc_txt,enc\n",
    "    \n",
    "    \n",
    "def huffman_decode(enc_txt,enc):\n",
    "    rev_enc_= {code: char for char, code in enc.items()}\n",
    "    curr_c=''\n",
    "    decode_txt= ''\n",
    "    for bit in enc_txt:\n",
    "        curr_c += bit\n",
    "        if curr_c in rev_enc:\n",
    "            decode_txt += rev_enc[curr_c]\n",
    "        curr_c=''\n",
    "        \n",
    "    return decode_txt\n",
    "# def build_huffman_codes(root):\n",
    "#     codes = {}\n",
    "\n",
    "#     def assign_codes(node, code):\n",
    "#         if node:\n",
    "#             # Leaf node (character)\n",
    "#             if node.char is not None:\n",
    "#                 codes[node.char] = code\n",
    "#             # Internal node\n",
    "#             else:\n",
    "#                 assign_codes(node.left, code + '0')\n",
    "#                 assign_codes(node.right, code + '1')\n",
    "\n",
    "#     assign_codes(root, '')\n",
    "#     return codes\n",
    "\n",
    "\n",
    "# driver code\n",
    "data = 'this is an example of haffman encoding'\n",
    "enc_txt,enc= haffman_encode(data)\n",
    "print(enc_txt)\n",
    "decode_txt= huffman_decode(enc_txt,enc)\n",
    "print(decode_txt)\n",
    "# data='BCAADDDCCACACAC'\n",
    "# n1 = Node(data)\n",
    "# build_huffman_tree(data)"
   ]
  },
  {
   "cell_type": "code",
   "execution_count": null,
   "id": "20f05c43",
   "metadata": {},
   "outputs": [],
   "source": []
  }
 ],
 "metadata": {
  "kernelspec": {
   "display_name": "Python 3 (ipykernel)",
   "language": "python",
   "name": "python3"
  },
  "language_info": {
   "codemirror_mode": {
    "name": "ipython",
    "version": 3
   },
   "file_extension": ".py",
   "mimetype": "text/x-python",
   "name": "python",
   "nbconvert_exporter": "python",
   "pygments_lexer": "ipython3",
   "version": "3.11.7"
  }
 },
 "nbformat": 4,
 "nbformat_minor": 5
}
