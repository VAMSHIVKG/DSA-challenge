{
 "cells": [
  {
   "cell_type": "code",
   "execution_count": 8,
   "id": "717d981b-ce8d-4605-9f55-e9316c7638c3",
   "metadata": {},
   "outputs": [
    {
     "name": "stdin",
     "output_type": "stream",
     "text": [
      " 22\n",
      " 7\n"
     ]
    },
    {
     "name": "stdout",
     "output_type": "stream",
     "text": [
      "3.(142857)\n"
     ]
    }
   ],
   "source": [
    "def divide(a,b):\n",
    "    if(b==0):\n",
    "        return None\n",
    "    q=a//b\n",
    "    r=a%b\n",
    "    if r==0:\n",
    "        return q\n",
    "    result=[str(q),\".\"]\n",
    "    dict={}\n",
    "    while(r!=0):\n",
    "        if r in dict:\n",
    "            result.insert(dict[r],\"(\")\n",
    "            result.append(\")\")\n",
    "            return \"\".join(result)\n",
    "        dict[r]=len(result)\n",
    "        r=r*10\n",
    "        q=r//b\n",
    "        result.append(str(q))\n",
    "        r=r%b\n",
    "    return result\n",
    "        \n",
    "a=int(input())\n",
    "b=int(input())\n",
    "print(divide(a,b))\n",
    "       "
   ]
  },
  {
   "cell_type": "code",
   "execution_count": null,
   "id": "56abbc42-0655-4914-ba0c-29aeeb4c1e03",
   "metadata": {},
   "outputs": [],
   "source": []
  }
 ],
 "metadata": {
  "kernelspec": {
   "display_name": "Python 3 (ipykernel)",
   "language": "python",
   "name": "python3"
  },
  "language_info": {
   "codemirror_mode": {
    "name": "ipython",
    "version": 3
   },
   "file_extension": ".py",
   "mimetype": "text/x-python",
   "name": "python",
   "nbconvert_exporter": "python",
   "pygments_lexer": "ipython3",
   "version": "3.11.7"
  }
 },
 "nbformat": 4,
 "nbformat_minor": 5
}
