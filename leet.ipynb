{
 "cells": [
  {
   "cell_type": "code",
   "execution_count": null,
   "id": "95951ee1-46a9-4f50-8bfd-6edaef4a2bbf",
   "metadata": {},
   "outputs": [],
   "source": []
  },
  {
   "cell_type": "code",
   "execution_count": null,
   "id": "222ad869-ef3c-49af-971e-69c65b451c31",
   "metadata": {},
   "outputs": [],
   "source": [
    "### root to leaf sum"
   ]
  },
  {
   "cell_type": "code",
   "execution_count": 1,
   "id": "de8d7850-e6fb-4f1f-b0f4-25665766e343",
   "metadata": {},
   "outputs": [
    {
     "name": "stdout",
     "output_type": "stream",
     "text": [
      "25\n"
     ]
    }
   ],
   "source": [
    "class Treenode:\n",
    "    def __init__(self,val):\n",
    "        self.val = val\n",
    "        self.right = None\n",
    "        self.left = None\n",
    "\n",
    "def Solution(root):\n",
    "    def dfs(root,sum):\n",
    "        if not root:\n",
    "            return 0\n",
    "        sum = sum * 10 + root.val    \n",
    "        if root.right is None and root.left is None:\n",
    "            return sum\n",
    "        return dfs(root.left, sum)+dfs(root.right,sum)\n",
    "\n",
    "    return dfs(root,0)\n",
    "                \n",
    "\n",
    "##driver code\n",
    "root = Treenode(1)\n",
    "root.left = Treenode(2)\n",
    "root.right = Treenode(3)\n",
    "\n",
    "print(Solution(root))\n",
    "\n",
    "\n"
   ]
  },
  {
   "cell_type": "code",
   "execution_count": 3,
   "id": "94743b32-ec51-48f0-85e3-e413779a0ccd",
   "metadata": {},
   "outputs": [
    {
     "name": "stdin",
     "output_type": "stream",
     "text": [
      " 4\n"
     ]
    },
    {
     "name": "stdout",
     "output_type": "stream",
     "text": [
      "true\n"
     ]
    }
   ],
   "source": [
    "### 129.. path sum \n",
    "\n",
    "class Treenode:\n",
    "    def __init__(self, val=0, left=None, right=None):\n",
    "        self.val = val\n",
    "        self.left = left\n",
    "        self.right = right\n",
    "\n",
    "def Solution(root,targetSum):\n",
    "    def dfs(node,sum):\n",
    "        if not node:\n",
    "            return True\n",
    "        sum = sum + node.val\n",
    "        if node.left is None and node.right is None:\n",
    "            if sum==targetSum:\n",
    "                return True\n",
    "            else:\n",
    "                return False\n",
    "        return dfs(node.right,sum) or dfs(node.left,sum)\n",
    "    return dfs(root,0)\n",
    "\n",
    "\n",
    "##driver code\n",
    "root = Treenode(1)\n",
    "root.left = Treenode(2)\n",
    "root.left.left = Treenode(4)\n",
    "root.left.right = Treenode(5)\n",
    "root.right = Treenode(3)\n",
    "\n",
    "\n",
    "print(Solution(root,targetSum=(int(input()))))\n"
   ]
  },
  {
   "cell_type": "code",
   "execution_count": 22,
   "id": "8d8e1707-ea9a-4b3c-8211-d0ba2b9641af",
   "metadata": {},
   "outputs": [
    {
     "name": "stdin",
     "output_type": "stream",
     "text": [
      " 22\n"
     ]
    },
    {
     "data": {
      "text/plain": [
       "[[5, 4, 11, 2], [5, 8, 4, 5]]"
      ]
     },
     "execution_count": 22,
     "metadata": {},
     "output_type": "execute_result"
    }
   ],
   "source": [
    "\n",
    "\n",
    "## 113.  path sum II\n",
    "\n",
    "class TreeNode:\n",
    "    def __init__(self,d):\n",
    "        self.right = None\n",
    "        self.left = None\n",
    "        self.d = d\n",
    "\n",
    "def PathSum(root,targetsum):\n",
    "    def dfs(root,sum,path):\n",
    "\n",
    "        if not root:\n",
    "            return\n",
    "\n",
    "        sum += root.d\n",
    "        path.append(root.d)\n",
    "        if root.left is None and root.right is None and sum==targetsum:\n",
    "            result.append(path[:])\n",
    "            \n",
    "        dfs(root.left,sum,path)\n",
    "        dfs(root.right,sum,path)\n",
    "        path.pop()\n",
    "    result=[]\n",
    "    dfs(root,0,[])\n",
    "    return result\n",
    "\n",
    "#driver code\n",
    "root = TreeNode(5)\n",
    "root.left = TreeNode(4)\n",
    "root.right = TreeNode(8)\n",
    "root.left.left = TreeNode(11)\n",
    "root.left.left.left = TreeNode(7)\n",
    "root.left.left.right = TreeNode(2)\n",
    "root.right.left = TreeNode(13)\n",
    "root.right.right = TreeNode(4)\n",
    "root.right.right.left = TreeNode(5)\n",
    "root.right.right.right = TreeNode(1)\n",
    "\n",
    "    \n",
    "PathSum(root,targetsum=int(input()))        \n",
    "            \n",
    "            \n",
    "    "
   ]
  },
  {
   "cell_type": "code",
   "execution_count": 9,
   "id": "5e694f23-2be0-4c8d-942c-c78b8509056d",
   "metadata": {},
   "outputs": [
    {
     "name": "stdout",
     "output_type": "stream",
     "text": [
      "0\n",
      "None\n"
     ]
    }
   ],
   "source": [
    "\n",
    "#path sum III\n",
    "class TreeNode:\n",
    "    def __init__(self,d):\n",
    "        self.right = None\n",
    "        self.left = None\n",
    "        self.d = d\n",
    "\n",
    "def pathsum(root,targetsum):\n",
    "    def dfs(root,curr_sum,count):\n",
    "        # nonlocal count\n",
    "        if not root:\n",
    "            return 0\n",
    "        curr_sum += root.d\n",
    "        if curr_sum == targetsum:\n",
    "            count= count + 1\n",
    "        if root.left is None and root.right is None or curr_sum > targetsum:\n",
    "            curr_sum=0\n",
    "        return dfs(root.right,curr_sum,count) or dfs(root.left,curr_sum,count)\n",
    "\n",
    "    # count = 0\n",
    "    print(dfs(root,0,0))\n",
    "    \n",
    "\n",
    "\n",
    "#driver code\n",
    "root = TreeNode(10)\n",
    "root.left = TreeNode(5)\n",
    "root.right = TreeNode(-3)\n",
    "root.left.left = TreeNode(3)\n",
    "root.left.left.left = TreeNode(3)\n",
    "root.left.left.right = TreeNode(-2)\n",
    "# root.right.left = TreeNode(13)\n",
    "root.right.right = TreeNode(11)\n",
    "# root.right.right.left = TreeNode(5)\n",
    "# root.right.right.right = TreeNode(1)\n",
    "root.left.right = TreeNode(2)\n",
    "root.left.right.right = TreeNode(1)\n",
    "print(pathsum(root,15))   "
   ]
  },
  {
   "cell_type": "code",
   "execution_count": 6,
   "id": "2b8319f5-cab2-4870-a34c-ab552077d423",
   "metadata": {},
   "outputs": [],
   "source": [
    "##mex array codechef\n",
    "\n",
    "# def MexArray(arr):\n",
    "    \n"
   ]
  },
  {
   "cell_type": "code",
   "execution_count": 4,
   "id": "4d87f10f-bd56-4fc4-a944-1824057500a4",
   "metadata": {},
   "outputs": [
    {
     "data": {
      "text/plain": [
       "51"
      ]
     },
     "execution_count": 4,
     "metadata": {},
     "output_type": "execute_result"
    }
   ],
   "source": [
    "# 2259 leet\n",
    "\n",
    "class Solution:\n",
    "    def removeDigit(self, number: str, digit: str) -> str:\n",
    "        lst = 0\n",
    "        for i in range(len(number)):\n",
    "            if number[i] == digit:\n",
    "                flag = True\n",
    "                temp = list(number)\n",
    "                temp.pop(i)\n",
    "                lst = max(lst,int(''.join(temp)))\n",
    "        if not flag:\n",
    "            return number\n",
    "\n",
    "        return str(lst)\n",
    "obj=Solution()\n",
    "obj.removeDigit('551','5')"
   ]
  },
  {
   "cell_type": "code",
   "execution_count": 17,
   "id": "55272454-c693-4637-a56e-5d1d56c77ac4",
   "metadata": {},
   "outputs": [
    {
     "name": "stdout",
     "output_type": "stream",
     "text": [
      "5\n"
     ]
    },
    {
     "data": {
      "text/plain": [
       "7"
      ]
     },
     "execution_count": 17,
     "metadata": {},
     "output_type": "execute_result"
    }
   ],
   "source": [
    "def tribonacci(n,res):\n",
    "    if n==0 or n==1 :\n",
    "        return n\n",
    "    if n==2:\n",
    "        return 1\n",
    "    if res[n]!=-1:\n",
    "        return res[n]\n",
    "    res[n] = tribonacci(n-1,res) + tribonacci(n-2,res) + tribonacci(n-3,res)\n",
    "    return res[n]\n",
    "n=int(input())\n",
    "res = [-1 for i in range(n+1)]\n",
    "tribonacci(n,res)\n",
    "    "
   ]
  },
  {
   "cell_type": "code",
   "execution_count": 12,
   "id": "2ff0ef5d-7979-4142-bdaa-34f7f4e6b54d",
   "metadata": {},
   "outputs": [
    {
     "name": "stdout",
     "output_type": "stream",
     "text": [
      "4\n"
     ]
    },
    {
     "data": {
      "text/plain": [
       "3"
      ]
     },
     "execution_count": 12,
     "metadata": {},
     "output_type": "execute_result"
    }
   ],
   "source": [
    "\n",
    "## 509 fibonacii series\n",
    "\n",
    "def fib(n,res):\n",
    "    if n==0 or n==1:\n",
    "        return n\n",
    "    if res[n]!=-1:\n",
    "        return res[n]\n",
    "    res[n] = fib(n-1,res) + fib(n-2,res)\n",
    "    return res[n]\n",
    "n=int(input())\n",
    "res = [-1 for i in range(n+1)]\n",
    "fib(n,res)"
   ]
  },
  {
   "cell_type": "code",
   "execution_count": 3,
   "id": "244676e3-2152-40ba-b1e6-ed583723b39b",
   "metadata": {},
   "outputs": [
    {
     "name": "stdout",
     "output_type": "stream",
     "text": [
      "1 80 19\n"
     ]
    }
   ],
   "source": [
    "## 3 diff fruits\n",
    "# banana each cost 1rup\n",
    "# grape cost 0.05 rup\n",
    "# mango cost 5 rup\n",
    "def findF():\n",
    "    for b in range(1,101):\n",
    "        for g in range(1,100):\n",
    "            for m in range(1,21):\n",
    "                if (b*1 + g*0.05 + m*5 == 100.0) and b+g+m ==100:\n",
    "                    print(b,g,m)\n",
    "                    return\n",
    "findF()"
   ]
  },
  {
   "cell_type": "code",
   "execution_count": 5,
   "id": "a5349af0",
   "metadata": {},
   "outputs": [
    {
     "name": "stdout",
     "output_type": "stream",
     "text": [
      "159\n"
     ]
    }
   ],
   "source": [
    "##find the min sum of given set\n",
    "# from two min numbers obtained from the set\n",
    "\n",
    "import heapq\n",
    "def findsum(arr):\n",
    "    heapq.heapify(arr)\n",
    "    s1 = s2 = ''\n",
    "    l = len(arr)\n",
    "    for i in range(l):\n",
    "        d = heapq.heappop(arr)\n",
    "        if i%2 == 0:\n",
    "            s1 += str(d)\n",
    "        else:\n",
    "            s2 += str(d)\n",
    "    return int(s1) + int(s2)\n",
    "\n",
    "array=[1,2,3,4,5]\n",
    "print(findsum(array))"
   ]
  },
  {
   "cell_type": "code",
   "execution_count": 6,
   "id": "bca8553c",
   "metadata": {},
   "outputs": [
    {
     "name": "stdout",
     "output_type": "stream",
     "text": [
      "159\n"
     ]
    }
   ],
   "source": [
    "import heapq\n",
    "def minsum(arr):\n",
    "    heapq.heapify(arr)\n",
    "    s1 = s2 = 0\n",
    "    l = len(arr)\n",
    "    for i in range(l):\n",
    "        d = heapq.heappop(arr)\n",
    "        if i%2 == 0:\n",
    "            s1 = s1*10 + d\n",
    "        else:\n",
    "            s2 = s2*10 + d\n",
    "    return s1 + s2\n",
    "\n",
    "array=[1,2,3,4,5]\n",
    "print(minsum(array))"
   ]
  },
  {
   "cell_type": "code",
   "execution_count": 18,
   "id": "4d5134fe",
   "metadata": {},
   "outputs": [
    {
     "name": "stdout",
     "output_type": "stream",
     "text": [
      "5431\n"
     ]
    }
   ],
   "source": [
    "import heapq\n",
    "def maxsum(arr):\n",
    "    arr = [-i for i in arr]\n",
    "    heapq.heapify(arr)\n",
    "    s1 = s2 = 0\n",
    "    l = len(arr)\n",
    "    for i in range(l):\n",
    "        \n",
    "        if len(arr) == 1:\n",
    "            s2 = s2 + arr[0]\n",
    "            break\n",
    "        \n",
    "        d = -heapq.heappop(arr)\n",
    "        s1 = s1*10 + d\n",
    "            \n",
    "    return abs(s1 + s2)\n",
    "\n",
    "array=[1,2,3,4,5]\n",
    "print(maxsum(array))"
   ]
  },
  {
   "cell_type": "code",
   "execution_count": 13,
   "id": "4e734c50",
   "metadata": {},
   "outputs": [
    {
     "data": {
      "text/plain": [
       "'xcbaex'"
      ]
     },
     "execution_count": 13,
     "metadata": {},
     "output_type": "execute_result"
    }
   ],
   "source": [
    "##2000 leet\n",
    "def reversePrefix(word: str, ch: str) -> str:\n",
    "        for i in range(len(word)):\n",
    "            if word[i] == ch:\n",
    "                flag = True\n",
    "                last=word.replace(word[0:i+1],'')\n",
    "                rev=word[0:i+1][::-1]\n",
    "                return rev+last\n",
    "        if not flag:\n",
    "            return word\n",
    "reversePrefix('abcxex','x')"
   ]
  },
  {
   "cell_type": "code",
   "execution_count": 14,
   "id": "cbe4c439",
   "metadata": {},
   "outputs": [
    {
     "data": {
      "text/plain": [
       "7"
      ]
     },
     "execution_count": 14,
     "metadata": {},
     "output_type": "execute_result"
    }
   ],
   "source": [
    "# leet 2441\n",
    "def findMaxK(nums):\n",
    "    if not nums:\n",
    "        return -1\n",
    "    m=max(nums)\n",
    "    if -m in nums:\n",
    "        return m\n",
    "    else:\n",
    "        nums.remove(m)\n",
    "        return findMaxK(nums)\n",
    "nums = [-1,10,6,7,-7,1]\n",
    "# nums=[-10,8,6,7,-2,-3] #-1\n",
    "findMaxK(nums)"
   ]
  },
  {
   "cell_type": "code",
   "execution_count": 6,
   "id": "3037e0c3",
   "metadata": {},
   "outputs": [
    {
     "name": "stdout",
     "output_type": "stream",
     "text": [
      "Counter({2: 1, 1: 1, 3: 1})\n"
     ]
    },
    {
     "data": {
      "text/plain": [
       "19"
      ]
     },
     "execution_count": 6,
     "metadata": {},
     "output_type": "execute_result"
    }
   ],
   "source": [
    "##1090 leet\n",
    "from collections import Counter\n",
    "def largestValsFromLabels(values,labels,numWanted,useLimit):\n",
    "        ans = num = 0\n",
    "        cnt = Counter()\n",
    "#         print(cnt)\n",
    "        for v, l in sorted(zip(values, labels), reverse=True):\n",
    "            if cnt[l] < useLimit:\n",
    "                cnt[l] += 1\n",
    "                num += 1\n",
    "                ans += v\n",
    "                if num == numWanted:\n",
    "                    break\n",
    "        print(cnt)\n",
    "        return ans\n",
    "    \n",
    "values = [5,4,3,2,10]\n",
    "labels = [1,3,3,3,2]\n",
    "numWanted = 3\n",
    "useLimit = 2\n",
    "largestValsFromLabels(values,labels,numWanted,useLimit)"
   ]
  },
  {
   "cell_type": "code",
   "execution_count": null,
   "id": "d2f12bdd",
   "metadata": {},
   "outputs": [],
   "source": [
    "##165 \n",
    "def compareVersion(self, version1: str, version2: str) -> int:\n",
    "        lst1=[]\n",
    "        lst2=[]\n",
    "        for i in version1:\n",
    "            if i != '.':\n",
    "                s += i\n",
    "            else:\n",
    "                lst1.append[int(s)]\n",
    "                s = ''\n",
    "        for i in version2:\n",
    "            if i != '.':\n",
    "                s1 += i\n",
    "            else:\n",
    "                lst2.append[int(s1)]\n",
    "                s1 = ''\n",
    "        for a,b in zip(lst1,lst2):\n",
    "            if a>b:\n",
    "                return 1\n",
    "            elif b>a:\n",
    "                return -1\n",
    "\n",
    "            else:\n",
    "                return 0 "
   ]
  },
  {
   "cell_type": "code",
   "execution_count": 12,
   "id": "afc7a9b8",
   "metadata": {},
   "outputs": [
    {
     "name": "stdout",
     "output_type": "stream",
     "text": [
      "10 2\n",
      "5 1\n",
      "4 3\n",
      "3 3\n",
      "2 3\n"
     ]
    }
   ],
   "source": [
    "from collections import Counter\n",
    "\n",
    "for v, l in sorted(zip(values, labels), reverse=True):\n",
    "    print(v,l)\n",
    "# print(zip(values,labels))"
   ]
  },
  {
   "cell_type": "code",
   "execution_count": null,
   "id": "364ea4b0",
   "metadata": {},
   "outputs": [],
   "source": [
    "def find_M(nums,k,res):\n",
    "    nums.sort()\n",
    "    m_index = len(nums) // 2\n",
    "    median = nums[m_index]\n",
    "    if median == k:\n",
    "        return res\n",
    "    elif median > k:\n",
    "        nums[m_index] = median - 1\n",
    "        res +=1\n",
    "        return find_M(nums,k,res)\n",
    "    else:\n",
    "        nums[m_index] = median + 1\n",
    "        res +=1\n",
    "        return find_M(nums,k,res)    \n",
    "nums = [1,2,3,4,5,6]\n",
    "# nums = [2,5,6,8,5]\n",
    "# print(len(nums))\n",
    "result = find_M(nums,7,0)\n",
    "print(result)"
   ]
  },
  {
   "cell_type": "code",
   "execution_count": 10,
   "id": "72132206",
   "metadata": {},
   "outputs": [
    {
     "name": "stdout",
     "output_type": "stream",
     "text": [
      "9998\n"
     ]
    }
   ],
   "source": [
    "def find_M(nums,k,res):\n",
    "    nums.sort()\n",
    "    m_index = len(nums) // 2\n",
    "    median = nums[m_index]\n",
    "    if median == k:\n",
    "        return res\n",
    "    res += abs(median - k)\n",
    "    if len(nums) > 2:\n",
    "        if nums[m_index - 1] > k:\n",
    "            res += (nums[m_index-1] - k)\n",
    "        if nums[m_index + 1] < k:\n",
    "            res += abs(nums[m_index+1] - k)\n",
    "    return res\n",
    "        \n",
    "        \n",
    "# nums = [1,2,3,4,5,6]\n",
    "nums = [2,1]\n",
    "\n",
    "result = find_M(nums,10000,0)\n",
    "print(result)\n"
   ]
  },
  {
   "cell_type": "code",
   "execution_count": 6,
   "id": "8549982a",
   "metadata": {},
   "outputs": [
    {
     "name": "stdout",
     "output_type": "stream",
     "text": [
      "0\n"
     ]
    }
   ],
   "source": [
    "print(1//2)"
   ]
  },
  {
   "cell_type": "code",
   "execution_count": 5,
   "id": "c3f8ea1d",
   "metadata": {},
   "outputs": [
    {
     "data": {
      "text/plain": [
       "5"
      ]
     },
     "execution_count": 5,
     "metadata": {},
     "output_type": "execute_result"
    }
   ],
   "source": [
    "##2226 leet\n",
    "\n",
    "\n",
    "# def MaximumCandies(candies,k):\n",
    "#     if sum(candies)<k:\n",
    "#         return 0\n",
    "# #     m =min(candies)\n",
    "#     candies.sort()\n",
    "#     for i in range(len(candies)):\n",
    "        \n",
    "    \n",
    "# #     m = sum(candies) // k\n",
    "# #     if min(candies) < m:\n",
    "# #         return min(candies)\n",
    "\n",
    "def maximumCandies(candies,k):\n",
    "        def numChildren(mid):\n",
    "            return sum(c // mid for c in candies)\n",
    "        \n",
    "        left, right = 1, sum(candies) // k\n",
    "        while left < right:\n",
    "            mid = (left + right + 1) // 2\n",
    "            if numChildren(mid) >= k:\n",
    "                left = mid\n",
    "            else:\n",
    "                right = mid - 1\n",
    "        \n",
    "        return left if numChildren(left) >= k else left - 1\n",
    "\n",
    "candies = [5,8,6]\n",
    "k = 3\n",
    "maximumCandies(candies,k)"
   ]
  },
  {
   "cell_type": "code",
   "execution_count": 10,
   "id": "ab4d6fa4",
   "metadata": {},
   "outputs": [
    {
     "name": "stdout",
     "output_type": "stream",
     "text": [
      "2#we3#say1#:3#yes10#!@#$%^&*()\n"
     ]
    },
    {
     "ename": "ValueError",
     "evalue": "invalid literal for int() with base 10: '!'",
     "output_type": "error",
     "traceback": [
      "\u001b[1;31m---------------------------------------------------------------------------\u001b[0m",
      "\u001b[1;31mValueError\u001b[0m                                Traceback (most recent call last)",
      "Cell \u001b[1;32mIn[10], line 20\u001b[0m\n\u001b[0;32m     17\u001b[0m     \u001b[38;5;28;01mreturn\u001b[39;00m decoded_s\n\u001b[0;32m     19\u001b[0m strs\u001b[38;5;241m=\u001b[39m[\u001b[38;5;124m\"\u001b[39m\u001b[38;5;124mwe\u001b[39m\u001b[38;5;124m\"\u001b[39m,\u001b[38;5;124m\"\u001b[39m\u001b[38;5;124msay\u001b[39m\u001b[38;5;124m\"\u001b[39m,\u001b[38;5;124m\"\u001b[39m\u001b[38;5;124m:\u001b[39m\u001b[38;5;124m\"\u001b[39m,\u001b[38;5;124m\"\u001b[39m\u001b[38;5;124myes\u001b[39m\u001b[38;5;124m\"\u001b[39m,\u001b[38;5;124m\"\u001b[39m\u001b[38;5;124m!@#$\u001b[39m\u001b[38;5;124m%\u001b[39m\u001b[38;5;124m^&*()\u001b[39m\u001b[38;5;124m\"\u001b[39m]\n\u001b[1;32m---> 20\u001b[0m \u001b[38;5;28mprint\u001b[39m(decode(encode(strs)))\n",
      "Cell \u001b[1;32mIn[10], line 14\u001b[0m, in \u001b[0;36mdecode\u001b[1;34m(s)\u001b[0m\n\u001b[0;32m     12\u001b[0m \u001b[38;5;28;01mwhile\u001b[39;00m i\u001b[38;5;241m<\u001b[39m\u001b[38;5;28mlen\u001b[39m(s):\n\u001b[0;32m     13\u001b[0m     j\u001b[38;5;241m=\u001b[39mi\u001b[38;5;241m+\u001b[39m\u001b[38;5;241m1\u001b[39m\n\u001b[1;32m---> 14\u001b[0m     length\u001b[38;5;241m=\u001b[39m\u001b[38;5;28mint\u001b[39m(s[i:j])\n\u001b[0;32m     15\u001b[0m     decoded_s\u001b[38;5;241m.\u001b[39mappend(s[j\u001b[38;5;241m+\u001b[39m\u001b[38;5;241m1\u001b[39m:j\u001b[38;5;241m+\u001b[39m\u001b[38;5;241m1\u001b[39m\u001b[38;5;241m+\u001b[39mlength])\n\u001b[0;32m     16\u001b[0m     i\u001b[38;5;241m=\u001b[39mj\u001b[38;5;241m+\u001b[39m\u001b[38;5;241m1\u001b[39m\u001b[38;5;241m+\u001b[39mlength\n",
      "\u001b[1;31mValueError\u001b[0m: invalid literal for int() with base 10: '!'"
     ]
    }
   ],
   "source": [
    "def encode(strs):\n",
    "    s=''\n",
    "    for i in strs:\n",
    "        s += f'{len(i)}#{i}'\n",
    "    print(s)\n",
    "    return s\n",
    "            \n",
    "\n",
    "def decode(s):\n",
    "    i=0\n",
    "    decoded_s=[]\n",
    "    while i<len(s):\n",
    "        j=i+1\n",
    "        length=int(s[i:j])\n",
    "        decoded_s.append(s[j+1:j+1+length])\n",
    "        i=j+1+length\n",
    "    return decoded_s\n",
    "\n",
    "strs=[\"we\",\"say\",\":\",\"yes\",\"!@#$%^&*()\"]\n",
    "print(decode(encode(strs)))\n",
    "# print(s)\n",
    "\n"
   ]
  },
  {
   "cell_type": "code",
   "execution_count": 8,
   "id": "9a0ada41-31bd-4b96-9f9c-1ef5244fd09e",
   "metadata": {},
   "outputs": [
    {
     "data": {
      "text/plain": [
       "4"
      ]
     },
     "execution_count": 8,
     "metadata": {},
     "output_type": "execute_result"
    }
   ],
   "source": [
    "def seq_l(nums):\n",
    "    n=len(nums)\n",
    "    nums.sort()\n",
    "    c=1\n",
    "    res=[1]\n",
    "    seen=set()\n",
    "    for num in nums:\n",
    "        \n",
    "        if num in seen:\n",
    "            continue\n",
    "    \n",
    "        else:\n",
    "            seen.add(num)\n",
    "            if (num+1) in nums:\n",
    "                c+=1\n",
    "            else:\n",
    "                res.append(c)\n",
    "                c=1\n",
    "    return max(res)\n",
    "seq_l([100,4,200,1,3,2])"
   ]
  },
  {
   "cell_type": "code",
   "execution_count": null,
   "id": "afdf23e2-6f67-46f0-b7ce-ab037bce59b3",
   "metadata": {},
   "outputs": [],
   "source": []
  }
 ],
 "metadata": {
  "kernelspec": {
   "display_name": "Python 3 (ipykernel)",
   "language": "python",
   "name": "python3"
  },
  "language_info": {
   "codemirror_mode": {
    "name": "ipython",
    "version": 3
   },
   "file_extension": ".py",
   "mimetype": "text/x-python",
   "name": "python",
   "nbconvert_exporter": "python",
   "pygments_lexer": "ipython3",
   "version": "3.11.7"
  },
  "widgets": {
   "application/vnd.jupyter.widget-state+json": {
    "state": {},
    "version_major": 2,
    "version_minor": 0
   }
  }
 },
 "nbformat": 4,
 "nbformat_minor": 5
}
