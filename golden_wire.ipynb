{
 "cells": [
  {
   "cell_type": "code",
   "execution_count": 3,
   "id": "6d8b8c06-8964-4e6b-982a-da9d4c7df17c",
   "metadata": {},
   "outputs": [
    {
     "ename": "NameError",
     "evalue": "name 'haepq' is not defined",
     "output_type": "error",
     "traceback": [
      "\u001b[1;31m---------------------------------------------------------------------------\u001b[0m",
      "\u001b[1;31mNameError\u001b[0m                                 Traceback (most recent call last)",
      "Cell \u001b[1;32mIn[3], line 15\u001b[0m\n\u001b[0;32m     13\u001b[0m \u001b[38;5;66;03m#driver code\u001b[39;00m\n\u001b[0;32m     14\u001b[0m wires\u001b[38;5;241m=\u001b[39m[\u001b[38;5;241m22\u001b[39m,\u001b[38;5;241m5\u001b[39m,\u001b[38;5;241m6\u001b[39m,\u001b[38;5;241m7\u001b[39m,\u001b[38;5;241m1\u001b[39m,\u001b[38;5;241m8\u001b[39m,\u001b[38;5;241m4\u001b[39m]\n\u001b[1;32m---> 15\u001b[0m \u001b[38;5;28mprint\u001b[39m(golden_wire(wires))\n",
      "Cell \u001b[1;32mIn[3], line 6\u001b[0m, in \u001b[0;36mgolden_wire\u001b[1;34m(wires)\u001b[0m\n\u001b[0;32m      4\u001b[0m cost\u001b[38;5;241m=\u001b[39m\u001b[38;5;241m0\u001b[39m\n\u001b[0;32m      5\u001b[0m \u001b[38;5;28;01mwhile\u001b[39;00m \u001b[38;5;28mlen\u001b[39m(wires)\u001b[38;5;241m>\u001b[39m\u001b[38;5;241m1\u001b[39m:\n\u001b[1;32m----> 6\u001b[0m     w1\u001b[38;5;241m=\u001b[39mhaepq\u001b[38;5;241m.\u001b[39mheappop()\n\u001b[0;32m      7\u001b[0m     w2\u001b[38;5;241m=\u001b[39mheapq\u001b[38;5;241m.\u001b[39mheappop()\n\u001b[0;32m      8\u001b[0m     cost\u001b[38;5;241m+\u001b[39m\u001b[38;5;241m=\u001b[39m(w1\u001b[38;5;241m+\u001b[39mw2)\n",
      "\u001b[1;31mNameError\u001b[0m: name 'haepq' is not defined"
     ]
    }
   ],
   "source": [
    "import heapq\n",
    "def golden_wire(wires):\n",
    "    heapq.heapify(wires)\n",
    "    cost=0\n",
    "    while len(wires)>1:\n",
    "        w1=haepq.heappop()\n",
    "        w2=heapq.heappop()\n",
    "        cost+=(w1+w2)\n",
    "        heapq.push(wires,(w1+w2))\n",
    "        #print()\n",
    "    return cost\n",
    "\n",
    "#driver code\n",
    "wires=[22,5,6,7,1,8,4]\n",
    "print(golden_wire(wires))\n",
    "                   \n",
    "    "
   ]
  },
  {
   "cell_type": "code",
   "execution_count": null,
   "id": "a9af8bcd-1658-42c6-9816-6c99640ad59d",
   "metadata": {},
   "outputs": [],
   "source": []
  }
 ],
 "metadata": {
  "kernelspec": {
   "display_name": "Python 3 (ipykernel)",
   "language": "python",
   "name": "python3"
  },
  "language_info": {
   "codemirror_mode": {
    "name": "ipython",
    "version": 3
   },
   "file_extension": ".py",
   "mimetype": "text/x-python",
   "name": "python",
   "nbconvert_exporter": "python",
   "pygments_lexer": "ipython3",
   "version": "3.11.7"
  }
 },
 "nbformat": 4,
 "nbformat_minor": 5
}
