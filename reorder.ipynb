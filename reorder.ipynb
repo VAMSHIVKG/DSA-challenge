{
 "cells": [
  {
   "cell_type": "code",
   "execution_count": null,
   "id": "d7ef62d7-d0cc-4d7b-bbe8-88c1d673035e",
   "metadata": {},
   "outputs": [],
   "source": [
    "class Solution:\n",
    "    def reorderList(self, head: ListNode) -> None:\n",
    "        # Finding the middle of the linked list\n",
    "        slow, fast = head, head.next\n",
    "        while fast and fast.next:\n",
    "            slow = slow.next\n",
    "            fast = fast.next.next\n",
    "\n",
    "        # Divide the linked list into two halves\n",
    "        h2 = slow.next\n",
    "        tail = slow.next = None\n",
    "\n",
    "        # Reverse the second half of the linked list\n",
    "        while h2:\n",
    "            temp = h2.next\n",
    "            h2.next = tail\n",
    "            tail = h2\n",
    "            h2 = temp\n",
    "\n",
    "        # Merge two halves of the linked list\n",
    "        h1, h2 = head, tail\n",
    "        while h2:\n",
    "            temp1, temp2 = h1.next, h2.next\n",
    "            h1.next = h2\n",
    "            h2.next = temp1\n",
    "            h1, h2 = temp1, temp2"
   ]
  }
 ],
 "metadata": {
  "kernelspec": {
   "display_name": "Python 3 (ipykernel)",
   "language": "python",
   "name": "python3"
  },
  "language_info": {
   "codemirror_mode": {
    "name": "ipython",
    "version": 3
   },
   "file_extension": ".py",
   "mimetype": "text/x-python",
   "name": "python",
   "nbconvert_exporter": "python",
   "pygments_lexer": "ipython3",
   "version": "3.11.7"
  }
 },
 "nbformat": 4,
 "nbformat_minor": 5
}
