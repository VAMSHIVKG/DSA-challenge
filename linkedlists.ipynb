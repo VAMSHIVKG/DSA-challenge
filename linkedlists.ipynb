{
 "cells": [
  {
   "cell_type": "code",
   "execution_count": null,
   "id": "42b007d5-b19d-479f-b6e6-de20936b09fb",
   "metadata": {},
   "outputs": [],
   "source": [
    "i=o\n",
    "while i<n:\n",
    "    new node=Node(input(\"enter value\")\n",
    "                  if i==0:\n",
    "                      self.head=new_node\n",
    "    \n",
    "    \n"
   ]
  },
  {
   "cell_type": "code",
   "execution_count": 1,
   "id": "c8e1e8c3-413c-4937-8a60-c5e14fdf836a",
   "metadata": {},
   "outputs": [],
   "source": [
    "##show data from first to  last\n",
    "def show (self):\n",
    "    t=self.head\n",
    "    while t:\n",
    "        print(t.val,end=\"\")\n",
    "        t=t.next"
   ]
  }
 ],
 "metadata": {
  "kernelspec": {
   "display_name": "Python 3 (ipykernel)",
   "language": "python",
   "name": "python3"
  },
  "language_info": {
   "codemirror_mode": {
    "name": "ipython",
    "version": 3
   },
   "file_extension": ".py",
   "mimetype": "text/x-python",
   "name": "python",
   "nbconvert_exporter": "python",
   "pygments_lexer": "ipython3",
   "version": "3.11.7"
  }
 },
 "nbformat": 4,
 "nbformat_minor": 5
}
