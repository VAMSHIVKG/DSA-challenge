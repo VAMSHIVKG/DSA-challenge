{
 "cells": [
  {
   "cell_type": "code",
   "execution_count": 8,
   "id": "fc96160b-996d-4ad8-80c2-d97718ef7952",
   "metadata": {},
   "outputs": [
    {
     "name": "stdin",
     "output_type": "stream",
     "text": [
      " 1245\n",
      " 2365\n"
     ]
    },
    {
     "name": "stdout",
     "output_type": "stream",
     "text": [
      "1B1C\n"
     ]
    }
   ],
   "source": [
    "#bull and cow\n",
    "\n",
    "def bull_cow(s,g):\n",
    "    b=0\n",
    "    c=0\n",
    "    s=str(s)\n",
    "    g=str(g)\n",
    "    for i in range(len(str(g))):\n",
    "        if g[i] in s:\n",
    "            if g[i]==s[i]:\n",
    "                b+=1\n",
    "            else:\n",
    "                c+=1\n",
    "    return str(b)+\"B\"+str(c)+\"C\"\n",
    "            \n",
    "    \n",
    "\n",
    "#driver code\n",
    "s=int(input())\n",
    "g=int(input())\n",
    "a=bull_cow(s,g)\n",
    "print(bull_cow(s,g))"
   ]
  },
  {
   "cell_type": "code",
   "execution_count": null,
   "id": "80dca999-ce6c-4e08-b41a-0c77401b1978",
   "metadata": {},
   "outputs": [],
   "source": [
    "def find_other_trees(x1, y1, x2, y2):\n",
    "    # Case 1: Vertical alignment (x1 == x2)\n",
    "    if x1 == x2:\n",
    "        # The square's sides are horizontal and vertical\n",
    "        side_length = abs(y1 - y2)\n",
    "        x3, y3 = x1 + side_length, y1\n",
    "        x4, y4 = x2 + side_length, y2\n",
    "        result = [x3, y3, x4, y4]\n",
    "        return ' '.join(str(ls) for ls in result)\n",
    "\n",
    "    # Case 2: Horizontal alignment (y1 == y2)\n",
    "    elif y1 == y2:\n",
    "        # The square's sides are horizontal and vertical\n",
    "        side_length = abs(x1 - x2)\n",
    "        x3, y3 = x1, y1 + side_length\n",
    "        x4, y4 = x2, y2 + side_length\n",
    "        result = [x3, y3, x4, y4]\n",
    "        return ' '.join(str(ls) for ls in result)\n",
    "\n",
    "    # Case 3: Diagonal alignment (|x1 - x2| == |y1 - y2|)\n",
    "    elif abs(x2 - x1) == abs(y2 - y1):\n",
    "        # The square is rotated 45 degrees\n",
    "        x3, y3 = x1, y2\n",
    "        x4, y4 = x2, y1\n",
    "        result = [x3, y3, x4, y4]\n",
    "        return ' '.join(str(ls) for ls in result)\n",
    "\n",
    "    # If none of the conditions for forming a square are satisfied, return -1\n",
    "    return -1\n",
    "\n",
    "# Example usage:\n",
    "x1, y1 = 0, 0\n",
    "x2, y2 = 1, 1\n",
    "result = find_other_trees(x1, y1, x2, y2)\n",
    "print(result)  # Example output: \"0 1 1 0\"\n"
   ]
  }
 ],
 "metadata": {
  "kernelspec": {
   "display_name": "Python 3 (ipykernel)",
   "language": "python",
   "name": "python3"
  },
  "language_info": {
   "codemirror_mode": {
    "name": "ipython",
    "version": 3
   },
   "file_extension": ".py",
   "mimetype": "text/x-python",
   "name": "python",
   "nbconvert_exporter": "python",
   "pygments_lexer": "ipython3",
   "version": "3.11.7"
  },
  "widgets": {
   "application/vnd.jupyter.widget-state+json": {
    "state": {},
    "version_major": 2,
    "version_minor": 0
   }
  }
 },
 "nbformat": 4,
 "nbformat_minor": 5
}
