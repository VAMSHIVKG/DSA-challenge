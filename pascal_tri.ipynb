{
 "cells": [
  {
   "cell_type": "code",
   "execution_count": 8,
   "id": "2814855a-8005-4ec3-bebb-a3cf072cbe52",
   "metadata": {},
   "outputs": [
    {
     "name": "stdout",
     "output_type": "stream",
     "text": [
      "[[0, 0, 0, 0, 0], [0, 0, 0, 0, 0], [0, 0, 0, 0, 0], [0, 0, 0, 0, 0], [0, 0, 0, 0, 0]]\n",
      "1\n",
      "11\n",
      "101\n",
      "1001\n",
      "10001\n"
     ]
    }
   ],
   "source": [
    "# class Solution:\n",
    "#general representation of the pascals triangle\n",
    "def pas_tri(r):\n",
    "    pas=[[0]*r for x in range(r)]\n",
    "    print(pas)\n",
    "    # pas=[]\n",
    "    # res=[]\n",
    "    for i in range(r):\n",
    "        for j in range(i+1):\n",
    "            if j == 0 or j == i:\n",
    "                pas[i][j] = 1\n",
    "                # res.append(pas)\n",
    "                print(pas[i][j],end='')\n",
    "                # print(res,end='')\n",
    "            else:\n",
    "                pas[i][j] == (pas[i - 1][j - 1] + pas[i - 1][j])\n",
    "                # res.append(pas)\n",
    "                print(pas[i][j],end='')\n",
    "                # print(res,end='')\n",
    "        print(\"\\n\", end = \"\")\n",
    "\n",
    "\n",
    "r=5\n",
    "# pas=[]\n",
    "# obj=Solution()\n",
    "\n",
    "pas_tri(r)\n",
    "   "
   ]
  },
  {
   "cell_type": "code",
   "execution_count": 9,
   "id": "85cb757c-47f9-4d89-8a74-a4b75f70bbff",
   "metadata": {},
   "outputs": [
    {
     "data": {
      "text/plain": [
       "[[1], [1, 1], [1, 2, 1], [1, 3, 3, 1], [1, 4, 6, 4, 1]]"
      ]
     },
     "execution_count": 9,
     "metadata": {},
     "output_type": "execute_result"
    }
   ],
   "source": [
    "# Input: numRows = 5\n",
    "# Output: [[1],[1,1],[1,2,1],[1,3,3,1],[1,4,6,4,1]]\n",
    "#pascals triangle\n",
    "class Solution:\n",
    "    def generate(self, numRows: int) ->list[list[int]]:\n",
    "        result = []\n",
    "        if numRows == 0:\n",
    "            return result\n",
    "\n",
    "        first_row = [1]\n",
    "        result.append(first_row)\n",
    "\n",
    "        for i in range(1, numRows):\n",
    "            prev_row = result[i - 1]\n",
    "            current_row = [1]\n",
    "\n",
    "            for j in range(1, i):\n",
    "                current_row.append(prev_row[j - 1] + prev_row[j])\n",
    "\n",
    "            current_row.append(1)\n",
    "            result.append(current_row)\n",
    "\n",
    "        return result\n",
    "\n",
    "obj=Solution()\n",
    "\n",
    "obj.generate(5)"
   ]
  },
  {
   "cell_type": "code",
   "execution_count": 7,
   "id": "97570681-2897-4d22-8399-5b446c151475",
   "metadata": {},
   "outputs": [
    {
     "data": {
      "text/plain": [
       "[1, 4, 6, 4, 1]"
      ]
     },
     "execution_count": 7,
     "metadata": {},
     "output_type": "execute_result"
    }
   ],
   "source": [
    "##CODE TO SHOW THE PARTICULAR ROW IN THE PASCALS TRIANGLE\n",
    "# BASED ON THE INDEX OF THE ROW\n",
    "\n",
    "def Row(n):\n",
    "    pas = [[1]]\n",
    "    \n",
    "    for i in range(1, n+1):\n",
    "        next_row = [1] * (i+1)\n",
    "        \n",
    "        for j in range(1,i):\n",
    "            next_row[j] = pas[j-1] + pas[j]\n",
    "\n",
    "        pas = next_row\n",
    "\n",
    "    return pas\n",
    "    \n",
    "##Driver code\n",
    "\n",
    "Row(4)\n",
    "   "
   ]
  },
  {
   "cell_type": "code",
   "execution_count": null,
   "id": "12952569-5835-4774-bff5-71130d3010dc",
   "metadata": {},
   "outputs": [],
   "source": []
  }
 ],
 "metadata": {
  "kernelspec": {
   "display_name": "Python 3 (ipykernel)",
   "language": "python",
   "name": "python3"
  },
  "language_info": {
   "codemirror_mode": {
    "name": "ipython",
    "version": 3
   },
   "file_extension": ".py",
   "mimetype": "text/x-python",
   "name": "python",
   "nbconvert_exporter": "python",
   "pygments_lexer": "ipython3",
   "version": "3.11.7"
  }
 },
 "nbformat": 4,
 "nbformat_minor": 5
}
