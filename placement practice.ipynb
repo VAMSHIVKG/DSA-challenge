{
 "cells": [
  {
   "cell_type": "markdown",
   "id": "f93b717f",
   "metadata": {},
   "source": [
    "placement"
   ]
  },
  {
   "cell_type": "code",
   "execution_count": null,
   "id": "398155ba",
   "metadata": {},
   "outputs": [],
   "source": [
    "# armstrong number\n",
    "# def \n",
    "for i in range(1000,10000):\n",
    "    s=str(i)\n",
    "    ss=0\n",
    "    for j in s:\n",
    "        ss+=(int(j)**4)\n",
    "    if ss==i:\n",
    "        print(i)\n"
   ]
  },
  {
   "cell_type": "code",
   "execution_count": null,
   "id": "c27d32fd",
   "metadata": {},
   "outputs": [],
   "source": [
    "import math\n",
    "def armstrong(n,s=0):\n",
    "    l = int(math.log10(n))+1\n",
    "    r=(n/10)%10\n",
    "    s+=r**l\n",
    "    if s==n:\n",
    "        print(n,'is armstrong')\n",
    "    else:\n",
    "        print('not armstrong')\n",
    "\n",
    "for i in range(5):\n",
    "    n = int(input())\n",
    "    print(armstrong(n,s))\n",
    "    "
   ]
  },
  {
   "cell_type": "code",
   "execution_count": 14,
   "id": "217b6987",
   "metadata": {},
   "outputs": [
    {
     "name": "stdin",
     "output_type": "stream",
     "text": [
      " 5\n",
      " 4 5 1 2 3\n"
     ]
    },
    {
     "name": "stdout",
     "output_type": "stream",
     "text": [
      "3\n"
     ]
    }
   ],
   "source": [
    "def Bubble_sort(arr):\n",
    "    min_index=arr.index(min(arr))\n",
    "    mid_index=len(arr)//2\n",
    "    max_index=arr.index(max(arr))\n",
    "    if min_index>mid_index:\n",
    "        return descending_sort(arr)\n",
    "    elif min_index<mid_index:\n",
    "        return ascending_sort(arr)\n",
    "    else:\n",
    "        if max_index>mid_index:\n",
    "          return ascending_sort(arr)\n",
    "        else:\n",
    "          return descending_sort(arr)\n",
    "def ascending_sort(arr):\n",
    "    count=0\n",
    "    for i in range(len(arr)):\n",
    "        for j in range(1,len(arr)-i-1):\n",
    "            if arr[j]>arr[j+1]:\n",
    "                arr[j],arr[j+1]=arr[j+1],arr[j]\n",
    "                count+=1\n",
    "    return count\n",
    "     \n",
    "\n",
    "def descending_sort(arr):\n",
    "    count=0\n",
    "    for i in range(len(arr)):\n",
    "        for j in range(1,len(arr)-i-1):\n",
    "            if arr[j]<arr[j+1]:\n",
    "                arr[j],arr[j+1]=arr[j+1],arr[j]\n",
    "                count+=1\n",
    "    return count\n",
    "\n",
    "N=int(input())\n",
    "arr=list(map(int,input().split()))\n",
    "print(Bubble_sort(arr))"
   ]
  },
  {
   "cell_type": "code",
   "execution_count": null,
   "id": "f84c62dd-7c59-4283-be4f-8d14ce877bbb",
   "metadata": {},
   "outputs": [],
   "source": []
  }
 ],
 "metadata": {
  "kernelspec": {
   "display_name": "Python 3 (ipykernel)",
   "language": "python",
   "name": "python3"
  },
  "language_info": {
   "codemirror_mode": {
    "name": "ipython",
    "version": 3
   },
   "file_extension": ".py",
   "mimetype": "text/x-python",
   "name": "python",
   "nbconvert_exporter": "python",
   "pygments_lexer": "ipython3",
   "version": "3.11.7"
  },
  "widgets": {
   "application/vnd.jupyter.widget-state+json": {
    "state": {},
    "version_major": 2,
    "version_minor": 0
   }
  }
 },
 "nbformat": 4,
 "nbformat_minor": 5
}
