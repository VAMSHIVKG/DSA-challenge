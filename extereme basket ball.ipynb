{
 "cells": [
  {
   "cell_type": "code",
   "execution_count": null,
   "id": "34d5d1c9-a772-460d-9e21-debbc3849e8b",
   "metadata": {},
   "outputs": [],
   "source": [
    "#extereme basket ball\n",
    "def solution(res):\n",
    "    # for i in range(t):\n",
    "    if res[0]-res[1] >= 10:\n",
    "        return 0\n",
    "    \n",
    "    #score needed for alice\n",
    "    A=10-(res[0]-res[1])\n",
    "    if A < 3:\n",
    "        shoots=1\n",
    "    else:\n",
    "        r=A%3\n",
    "        if r==0:\n",
    "            shoots=A//3\n",
    "        else:\n",
    "            shoots=(A//3)+1\n",
    "    return shoots\n",
    "\n",
    "t=int(input())\n",
    "res=[]\n",
    "for i in range(t):\n",
    "    scores=list(map(int,input().split()))\n",
    "    # res.append(scores)\n",
    "    a=solution(scores)\n",
    "    res.append(a)\n",
    "for i in res:\n",
    "    print(i)\n"
   ]
  },
  {
   "cell_type": "markdown",
   "id": "12220f8c-7f61-4caa-b9f4-d63d9f6ddccc",
   "metadata": {},
   "source": []
  },
  {
   "cell_type": "code",
   "execution_count": null,
   "id": "fd3beca6-526e-4cf5-983f-f6fe31e5624d",
   "metadata": {},
   "outputs": [],
   "source": []
  },
  {
   "cell_type": "code",
   "execution_count": null,
   "id": "45b45b84-43b7-4083-9007-77b8412b5700",
   "metadata": {},
   "outputs": [],
   "source": []
  }
 ],
 "metadata": {
  "kernelspec": {
   "display_name": "Python 3 (ipykernel)",
   "language": "python",
   "name": "python3"
  },
  "language_info": {
   "codemirror_mode": {
    "name": "ipython",
    "version": 3
   },
   "file_extension": ".py",
   "mimetype": "text/x-python",
   "name": "python",
   "nbconvert_exporter": "python",
   "pygments_lexer": "ipython3",
   "version": "3.11.7"
  }
 },
 "nbformat": 4,
 "nbformat_minor": 5
}
